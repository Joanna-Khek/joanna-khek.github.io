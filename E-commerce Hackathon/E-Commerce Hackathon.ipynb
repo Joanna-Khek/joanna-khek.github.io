{
 "cells": [
  {
   "cell_type": "markdown",
   "metadata": {},
   "source": [
    "# Project Title: E-commerce Analytics ML Hackathon"
   ]
  },
  {
   "cell_type": "markdown",
   "metadata": {},
   "source": [
    "#### Author: Joanna Khek Cuina   \n",
    "#### Date: 10 April 2020"
   ]
  },
  {
   "cell_type": "markdown",
   "metadata": {},
   "source": [
    "With the evolution of the information and communication technologies and the rapid growth of the Internet for the exchange and distribution of information, Electronic Commerce (e-commerce) has gained massive momentum globally, and attracted more and more worldwide users overcoming the time constraints and distance barriers.\n",
    "\n",
    "It is important to gain in-depth insights into e-commerce via data-driven analytics and identify the factors affecting product sales, the impact of characteristics of customers on their purchase habits.\n",
    "\n",
    "It is quite useful to understand the demand, habits, concern, perception, and interest of customers from the clue of genders for e-commerce companies. \n",
    "\n",
    "However, the genders of users are in general unavailable in e-commerce platforms. To address this gap the aim here is to predict the gender of e-commerce’s participants from their product viewing records."
   ]
  },
  {
   "cell_type": "markdown",
   "metadata": {},
   "source": [
    "**Train file**: CSV containing the product viewing data with gender as label. Product list contains list of products viewed by the user in the given session and it also contains the category, sub category, sub-sub category and the product all encoded and separated with a slash symbol. Each consecutive product is separated with a semicolon.    \n",
    "\n",
    "**Test file**: CSV containing sessions for which gender prediction is to be submitted. "
   ]
  },
  {
   "cell_type": "markdown",
   "metadata": {},
   "source": [
    "**Evaluation**\" Submissions are evaluated on accuracy between the predicted and observed gender for the sessions in the test set."
   ]
  },
  {
   "cell_type": "markdown",
   "metadata": {},
   "source": [
    "## Import Libraries"
   ]
  },
  {
   "cell_type": "code",
   "execution_count": 477,
   "metadata": {},
   "outputs": [],
   "source": [
    "import pandas as pd\n",
    "import numpy as np\n",
    "from datetime import datetime\n",
    "import re\n",
    "import missingno\n",
    "\n",
    "# visualization\n",
    "import seaborn as sns\n",
    "import plotly.express as px\n",
    "import plotly.graph_objects as go\n",
    "import matplotlib.pylab as plt\n",
    "%matplotlib inline\n",
    "from matplotlib.pylab import rcParams\n",
    "\n",
    "# model\n",
    "from sklearn.model_selection import train_test_split, cross_val_score\n",
    "from sklearn.model_selection import ShuffleSplit\n",
    "from sklearn.neighbors import KNeighborsClassifier\n",
    "from sklearn.tree import DecisionTreeClassifier,ExtraTreeClassifier\n",
    "from sklearn.linear_model import LogisticRegression\n",
    "from sklearn.ensemble import AdaBoostClassifier,RandomForestClassifier,StackingClassifier,VotingClassifier,BaggingClassifier,ExtraTreesClassifier,GradientBoostingClassifier,BaggingClassifier,ExtraTreesClassifier\n",
    "from sklearn.model_selection import GridSearchCV, KFold\n",
    "from sklearn.model_selection import RepeatedStratifiedKFold\n",
    "from sklearn.ensemble import GradientBoostingClassifier\n",
    "from xgboost.sklearn import XGBClassifier\n",
    "import xgboost as xgb\n",
    "import lightgbm as lgb\n",
    "import catboost as cat\n",
    "\n",
    "# evaluation\n",
    "from sklearn.metrics import classification_report, confusion_matrix\n",
    "from sklearn.ensemble import VotingClassifier\n",
    "from sklearn.metrics import f1_score, roc_auc_score, accuracy_score\n",
    "\n",
    "from sklearn.utils import resample\n",
    "from sklearn.preprocessing import LabelEncoder\n",
    "import warnings\n",
    "warnings.simplefilter('ignore')"
   ]
  },
  {
   "cell_type": "code",
   "execution_count": 478,
   "metadata": {},
   "outputs": [],
   "source": [
    "pd.set_option(\"display.max_columns\", None)\n",
    "pd.set_option(\"display.max_rows\", None)\n",
    "pd.set_option(\"display.max_colwidth\", -1)"
   ]
  },
  {
   "cell_type": "markdown",
   "metadata": {},
   "source": [
    "## Import Data"
   ]
  },
  {
   "cell_type": "code",
   "execution_count": 479,
   "metadata": {},
   "outputs": [],
   "source": [
    "train = pd.read_csv(\"train.csv\")\n",
    "test = pd.read_csv(\"test.csv\")"
   ]
  },
  {
   "cell_type": "code",
   "execution_count": 480,
   "metadata": {},
   "outputs": [
    {
     "name": "stdout",
     "output_type": "stream",
     "text": [
      "<class 'pandas.core.frame.DataFrame'>\n",
      "RangeIndex: 10500 entries, 0 to 10499\n",
      "Data columns (total 5 columns):\n",
      " #   Column       Non-Null Count  Dtype \n",
      "---  ------       --------------  ----- \n",
      " 0   session_id   10500 non-null  object\n",
      " 1   startTime    10500 non-null  object\n",
      " 2   endTime      10500 non-null  object\n",
      " 3   ProductList  10500 non-null  object\n",
      " 4   gender       10500 non-null  object\n",
      "dtypes: object(5)\n",
      "memory usage: 410.3+ KB\n"
     ]
    }
   ],
   "source": [
    "train.info()"
   ]
  },
  {
   "cell_type": "code",
   "execution_count": 481,
   "metadata": {},
   "outputs": [
    {
     "data": {
      "text/html": [
       "<div>\n",
       "<style scoped>\n",
       "    .dataframe tbody tr th:only-of-type {\n",
       "        vertical-align: middle;\n",
       "    }\n",
       "\n",
       "    .dataframe tbody tr th {\n",
       "        vertical-align: top;\n",
       "    }\n",
       "\n",
       "    .dataframe thead th {\n",
       "        text-align: right;\n",
       "    }\n",
       "</style>\n",
       "<table border=\"1\" class=\"dataframe\">\n",
       "  <thead>\n",
       "    <tr style=\"text-align: right;\">\n",
       "      <th></th>\n",
       "      <th>session_id</th>\n",
       "      <th>startTime</th>\n",
       "      <th>endTime</th>\n",
       "      <th>ProductList</th>\n",
       "      <th>gender</th>\n",
       "    </tr>\n",
       "  </thead>\n",
       "  <tbody>\n",
       "    <tr>\n",
       "      <th>0</th>\n",
       "      <td>u16159</td>\n",
       "      <td>15/12/14 18:11</td>\n",
       "      <td>15/12/14 18:12</td>\n",
       "      <td>A00002/B00003/C00006/D28435/;A00002/B00003/C00006/D02554/;A00002/B00003/C00006/D28436/;A00002/B00003/C00006/D28437/</td>\n",
       "      <td>female</td>\n",
       "    </tr>\n",
       "    <tr>\n",
       "      <th>1</th>\n",
       "      <td>u10253</td>\n",
       "      <td>16/12/14 14:35</td>\n",
       "      <td>16/12/14 14:41</td>\n",
       "      <td>A00001/B00009/C00031/D29404/;A00001/B00009/C00031/D02617/;A00001/B00009/C00031/D29407/;A00001/B00009/C00031/D29410/;A00001/B00009/C00031/D29411/;A00001/B00009/C00031/D25444/;A00001/B00009/C00031/D29418/</td>\n",
       "      <td>male</td>\n",
       "    </tr>\n",
       "    <tr>\n",
       "      <th>2</th>\n",
       "      <td>u19037</td>\n",
       "      <td>01/12/14 15:58</td>\n",
       "      <td>01/12/14 15:58</td>\n",
       "      <td>A00002/B00001/C00020/D16944/</td>\n",
       "      <td>female</td>\n",
       "    </tr>\n",
       "    <tr>\n",
       "      <th>3</th>\n",
       "      <td>u14556</td>\n",
       "      <td>23/11/14 2:57</td>\n",
       "      <td>23/11/14 3:00</td>\n",
       "      <td>A00002/B00004/C00018/D10284/;A00002/B00004/C00018/D10285/;A00002/B00004/C00018/D10286/</td>\n",
       "      <td>female</td>\n",
       "    </tr>\n",
       "    <tr>\n",
       "      <th>4</th>\n",
       "      <td>u24295</td>\n",
       "      <td>17/12/14 16:44</td>\n",
       "      <td>17/12/14 16:46</td>\n",
       "      <td>A00001/B00001/C00012/D30805/;A00001/B00001/C00012/D30806/</td>\n",
       "      <td>male</td>\n",
       "    </tr>\n",
       "  </tbody>\n",
       "</table>\n",
       "</div>"
      ],
      "text/plain": [
       "  session_id       startTime         endTime  \\\n",
       "0  u16159     15/12/14 18:11  15/12/14 18:12   \n",
       "1  u10253     16/12/14 14:35  16/12/14 14:41   \n",
       "2  u19037     01/12/14 15:58  01/12/14 15:58   \n",
       "3  u14556     23/11/14 2:57   23/11/14 3:00    \n",
       "4  u24295     17/12/14 16:44  17/12/14 16:46   \n",
       "\n",
       "                                                                                                                                                                                                  ProductList  \\\n",
       "0  A00002/B00003/C00006/D28435/;A00002/B00003/C00006/D02554/;A00002/B00003/C00006/D28436/;A00002/B00003/C00006/D28437/                                                                                          \n",
       "1  A00001/B00009/C00031/D29404/;A00001/B00009/C00031/D02617/;A00001/B00009/C00031/D29407/;A00001/B00009/C00031/D29410/;A00001/B00009/C00031/D29411/;A00001/B00009/C00031/D25444/;A00001/B00009/C00031/D29418/   \n",
       "2  A00002/B00001/C00020/D16944/                                                                                                                                                                                 \n",
       "3  A00002/B00004/C00018/D10284/;A00002/B00004/C00018/D10285/;A00002/B00004/C00018/D10286/                                                                                                                       \n",
       "4  A00001/B00001/C00012/D30805/;A00001/B00001/C00012/D30806/                                                                                                                                                    \n",
       "\n",
       "   gender  \n",
       "0  female  \n",
       "1  male    \n",
       "2  female  \n",
       "3  female  \n",
       "4  male    "
      ]
     },
     "execution_count": 481,
     "metadata": {},
     "output_type": "execute_result"
    }
   ],
   "source": [
    "train.head()"
   ]
  },
  {
   "cell_type": "code",
   "execution_count": 482,
   "metadata": {},
   "outputs": [
    {
     "name": "stdout",
     "output_type": "stream",
     "text": [
      "<class 'pandas.core.frame.DataFrame'>\n",
      "RangeIndex: 4500 entries, 0 to 4499\n",
      "Data columns (total 4 columns):\n",
      " #   Column       Non-Null Count  Dtype \n",
      "---  ------       --------------  ----- \n",
      " 0   session_id   4500 non-null   object\n",
      " 1   startTime    4500 non-null   object\n",
      " 2   endTime      4500 non-null   object\n",
      " 3   ProductList  4500 non-null   object\n",
      "dtypes: object(4)\n",
      "memory usage: 140.8+ KB\n"
     ]
    }
   ],
   "source": [
    "test.info()"
   ]
  },
  {
   "cell_type": "code",
   "execution_count": 483,
   "metadata": {},
   "outputs": [
    {
     "data": {
      "text/html": [
       "<div>\n",
       "<style scoped>\n",
       "    .dataframe tbody tr th:only-of-type {\n",
       "        vertical-align: middle;\n",
       "    }\n",
       "\n",
       "    .dataframe tbody tr th {\n",
       "        vertical-align: top;\n",
       "    }\n",
       "\n",
       "    .dataframe thead th {\n",
       "        text-align: right;\n",
       "    }\n",
       "</style>\n",
       "<table border=\"1\" class=\"dataframe\">\n",
       "  <thead>\n",
       "    <tr style=\"text-align: right;\">\n",
       "      <th></th>\n",
       "      <th>session_id</th>\n",
       "      <th>startTime</th>\n",
       "      <th>endTime</th>\n",
       "      <th>ProductList</th>\n",
       "    </tr>\n",
       "  </thead>\n",
       "  <tbody>\n",
       "    <tr>\n",
       "      <th>0</th>\n",
       "      <td>u12112</td>\n",
       "      <td>08/12/14 13:36</td>\n",
       "      <td>08/12/14 13:36</td>\n",
       "      <td>A00002/B00003/C00006/D19956/</td>\n",
       "    </tr>\n",
       "    <tr>\n",
       "      <th>1</th>\n",
       "      <td>u19725</td>\n",
       "      <td>19/12/14 13:52</td>\n",
       "      <td>19/12/14 13:52</td>\n",
       "      <td>A00002/B00005/C00067/D02026/</td>\n",
       "    </tr>\n",
       "    <tr>\n",
       "      <th>2</th>\n",
       "      <td>u11795</td>\n",
       "      <td>01/12/14 10:44</td>\n",
       "      <td>01/12/14 10:44</td>\n",
       "      <td>A00002/B00002/C00004/D12538/</td>\n",
       "    </tr>\n",
       "    <tr>\n",
       "      <th>3</th>\n",
       "      <td>u22639</td>\n",
       "      <td>08/12/14 20:19</td>\n",
       "      <td>08/12/14 20:22</td>\n",
       "      <td>A00002/B00003/C00079/D22781/;A00002/B00003/C00079/D22782/;A00002/B00003/C00079/D19325/;A00002/B00003/C00079/D22786/</td>\n",
       "    </tr>\n",
       "    <tr>\n",
       "      <th>4</th>\n",
       "      <td>u18034</td>\n",
       "      <td>15/12/14 19:33</td>\n",
       "      <td>15/12/14 19:33</td>\n",
       "      <td>A00002/B00001/C00010/D23419/</td>\n",
       "    </tr>\n",
       "  </tbody>\n",
       "</table>\n",
       "</div>"
      ],
      "text/plain": [
       "  session_id       startTime         endTime  \\\n",
       "0  u12112     08/12/14 13:36  08/12/14 13:36   \n",
       "1  u19725     19/12/14 13:52  19/12/14 13:52   \n",
       "2  u11795     01/12/14 10:44  01/12/14 10:44   \n",
       "3  u22639     08/12/14 20:19  08/12/14 20:22   \n",
       "4  u18034     15/12/14 19:33  15/12/14 19:33   \n",
       "\n",
       "                                                                                                           ProductList  \n",
       "0  A00002/B00003/C00006/D19956/                                                                                         \n",
       "1  A00002/B00005/C00067/D02026/                                                                                         \n",
       "2  A00002/B00002/C00004/D12538/                                                                                         \n",
       "3  A00002/B00003/C00079/D22781/;A00002/B00003/C00079/D22782/;A00002/B00003/C00079/D19325/;A00002/B00003/C00079/D22786/  \n",
       "4  A00002/B00001/C00010/D23419/                                                                                         "
      ]
     },
     "execution_count": 483,
     "metadata": {},
     "output_type": "execute_result"
    }
   ],
   "source": [
    "test.head()"
   ]
  },
  {
   "cell_type": "markdown",
   "metadata": {},
   "source": [
    "## Check for Missing Values"
   ]
  },
  {
   "cell_type": "code",
   "execution_count": 484,
   "metadata": {},
   "outputs": [
    {
     "data": {
      "text/plain": [
       "Series([], dtype: float64)"
      ]
     },
     "execution_count": 484,
     "metadata": {},
     "output_type": "execute_result"
    }
   ],
   "source": [
    "# check for missing values\n",
    "miss = train.isnull().sum()/len(train)\n",
    "miss = miss[miss > 0]\n",
    "miss.sort_values(inplace=True)\n",
    "miss"
   ]
  },
  {
   "cell_type": "markdown",
   "metadata": {},
   "source": [
    "## Data Preprocessing"
   ]
  },
  {
   "cell_type": "code",
   "execution_count": 485,
   "metadata": {},
   "outputs": [],
   "source": [
    "def preprocess(data):\n",
    "    # convert starttime and endtime to datetime format\n",
    "    data[\"startTime\"] = pd.to_datetime(data[\"startTime\"])\n",
    "    data[\"endTime\"] = pd.to_datetime(data[\"endTime\"])\n",
    "    print(\"Done: Convert to Datetime format\")\n",
    "    \n",
    "    # get the number of sites visited\n",
    "    data[\"total_products\"] = data[\"ProductList\"].apply(lambda x: len(x.split(\";\")))\n",
    "    print(\"Done: Number of sites visited\")\n",
    "    \n",
    "#     # extract product D group\n",
    "#     data[\"D_group\"] = data[\"ProductList\"].apply(lambda x: re.search(r\"D\\d{3}\", x).group(0))\n",
    "#     print(\"Done: Extracting D Group\")\n",
    "    \n",
    "    # extract the productlist\n",
    "    temp = data[\"ProductList\"].str.split(\";\")\n",
    "    data = data.reindex(data.index.repeat(temp.apply(len)))\n",
    "    data[\"product_data\"] = np.hstack(temp)\n",
    "    data['category'] = data[\"product_data\"].str.split(\"/\").str[0]\n",
    "    data[\"sub_category\"] = data[\"product_data\"].str.split(\"/\").str[1]\n",
    "    data[\"sub_sub_category\"] = data[\"product_data\"].str.split(\"/\").str[2]\n",
    "    data[\"product\"] = data[\"product_data\"].str.split(\"/\").str[3]\n",
    "    #data[\"ProductList\"] = data[\"ProductList\"].apply(lambda x: x.replace(\";\",\"\"))\n",
    "    #data[\"ProductList\"] = data[\"ProductList\"].apply(lambda x: re.sub(\"\\/D\\d+\", \"\", x))\n",
    "#     columns = sorted(set(data['ProductList'].str.split('/').sum()))\n",
    "#     for column in columns:\n",
    "#         data[column] = data[\"ProductList\"].str.count(column)\n",
    "    print(\"Done: Extracting categories\")\n",
    "    \n",
    "    # extract duration spent on website\n",
    "    duration = data[\"endTime\"] - data[\"startTime\"]\n",
    "    data[\"duration\"] = duration.dt.seconds\n",
    "    data[\"startTime_month\"] = data[\"startTime\"].dt.month\n",
    "    data[\"startTime_date\"] = data[\"startTime\"].dt.date\n",
    "    data[\"startTime_day\"] = data[\"startTime\"].dt.day\n",
    "    data[\"startTime_doy\"] = data[\"startTime\"].dt.dayofyear\n",
    "    data[\"startTime_week\"] = data[\"startTime\"].dt.week\n",
    "    data[\"startTime_dow\"] = data[\"startTime\"].dt.dayofweek\n",
    "    data[\"startTime_hour\"] = data[\"startTime\"].dt.hour\n",
    "    data[\"startTime_minute\"] = data[\"startTime\"].dt.minute\n",
    "    data[\"endTime_hour\"] = data[\"endTime\"].dt.hour\n",
    "    data[\"endTime_minute\"] = data[\"endTime\"].dt.minute\n",
    "    print(\"Done: Extracting duration spent on website\")\n",
    "    \n",
    "    # total\n",
    "    data[\"total_product_day\"] = data.groupby([\"startTime_day\"])[\"total_products\"].transform(\"sum\")\n",
    "    data[\"total_product_week\"] = data.groupby([\"startTime_week\"])[\"total_products\"].transform(\"sum\")\n",
    "    data[\"total_product_dow\"] = data.groupby([\"startTime_dow\"])[\"total_products\"].transform(\"sum\")\n",
    "    data[\"total_product_hour\"] = data.groupby([\"startTime_hour\"])[\"total_products\"].transform(\"sum\")\n",
    "    print(\"Done: Extracting total information\")\n",
    "                                              \n",
    "    return data"
   ]
  },
  {
   "cell_type": "code",
   "execution_count": 486,
   "metadata": {},
   "outputs": [
    {
     "name": "stdout",
     "output_type": "stream",
     "text": [
      "Done: Convert to Datetime format\n",
      "Done: Number of sites visited\n",
      "Done: Extracting categories\n",
      "Done: Extracting duration spent on website\n",
      "Done: Extracting total information\n"
     ]
    }
   ],
   "source": [
    "train = preprocess(train)"
   ]
  },
  {
   "cell_type": "code",
   "execution_count": 487,
   "metadata": {},
   "outputs": [
    {
     "name": "stdout",
     "output_type": "stream",
     "text": [
      "Done: Convert to Datetime format\n",
      "Done: Number of sites visited\n",
      "Done: Extracting categories\n",
      "Done: Extracting duration spent on website\n",
      "Done: Extracting total information\n"
     ]
    }
   ],
   "source": [
    "test = preprocess(test)"
   ]
  },
  {
   "cell_type": "code",
   "execution_count": 488,
   "metadata": {},
   "outputs": [],
   "source": [
    "# remove gender from training set first\n",
    "train_df = train.drop(\"gender\", axis=1)\n",
    "y = train[\"gender\"]"
   ]
  },
  {
   "cell_type": "markdown",
   "metadata": {},
   "source": [
    "## Encoding Categorical"
   ]
  },
  {
   "cell_type": "code",
   "execution_count": 489,
   "metadata": {},
   "outputs": [],
   "source": [
    "le_cat = LabelEncoder()\n",
    "le_subcat = LabelEncoder()\n",
    "le_subsubcat = LabelEncoder()\n",
    "le_product = LabelEncoder()\n",
    "le_gender = LabelEncoder()\n",
    "le_session = LabelEncoder()"
   ]
  },
  {
   "cell_type": "code",
   "execution_count": 490,
   "metadata": {},
   "outputs": [],
   "source": [
    "combined_data = train_df.append(test)"
   ]
  },
  {
   "cell_type": "code",
   "execution_count": 491,
   "metadata": {},
   "outputs": [],
   "source": [
    "# fit on the combined data\n",
    "combined_data[\"category\"] = le_cat.fit_transform(combined_data[\"category\"])\n",
    "combined_data[\"sub_category\"] = le_subcat.fit_transform(combined_data[\"sub_category\"])\n",
    "combined_data[\"sub_sub_category\"] = le_subsubcat.fit_transform(combined_data[\"sub_sub_category\"])\n",
    "combined_data[\"product\"] = le_product.fit_transform(combined_data[\"product\"])\n",
    "combined_data[\"session_id\"] = le_session.fit_transform(combined_data[\"session_id\"])\n",
    "y = le_gender.fit_transform(y)"
   ]
  },
  {
   "cell_type": "code",
   "execution_count": 492,
   "metadata": {},
   "outputs": [],
   "source": [
    "# apply transformation (train)\n",
    "train_df[\"category\"] = le_cat.transform(train_df[\"category\"])\n",
    "train_df[\"sub_category\"] = le_subcat.transform(train_df[\"sub_category\"])\n",
    "train_df[\"sub_sub_category\"] = le_subsubcat.transform(train_df[\"sub_sub_category\"])\n",
    "train_df[\"product\"] = le_product.transform(train_df[\"product\"])\n",
    "train_df[\"session_id\"] = le_session.transform(train_df[\"session_id\"])"
   ]
  },
  {
   "cell_type": "code",
   "execution_count": 493,
   "metadata": {},
   "outputs": [],
   "source": [
    "# apply transformation (test)\n",
    "test[\"category\"] = le_cat.transform(test[\"category\"])\n",
    "test[\"sub_category\"] = le_subcat.transform(test[\"sub_category\"])\n",
    "test[\"sub_sub_category\"] = le_subsubcat.transform(test[\"sub_sub_category\"])\n",
    "test[\"product\"] = le_product.transform(test[\"product\"])\n",
    "test[\"session_id\"] = le_session.transform(test[\"session_id\"])"
   ]
  },
  {
   "cell_type": "markdown",
   "metadata": {},
   "source": [
    "## Remove unnecessary columns"
   ]
  },
  {
   "cell_type": "code",
   "execution_count": 495,
   "metadata": {},
   "outputs": [],
   "source": [
    "train_df = train_df.drop([\"startTime\", \"endTime\", \"ProductList\", \"product_data\", \"startTime_date\"], axis=1)\n",
    "test = test.drop([\"startTime\", \"endTime\", \"ProductList\", \"product_data\", \"startTime_date\"], axis=1)"
   ]
  },
  {
   "cell_type": "markdown",
   "metadata": {},
   "source": [
    "## SMOTE"
   ]
  },
  {
   "cell_type": "code",
   "execution_count": 58,
   "metadata": {},
   "outputs": [
    {
     "data": {
      "text/plain": [
       "female    7372\n",
       "male      7372\n",
       "Name: gender, dtype: int64"
      ]
     },
     "execution_count": 58,
     "metadata": {},
     "output_type": "execute_result"
    }
   ],
   "source": [
    "# # concatenate our training data back together\n",
    "# X = pd.concat([X_train, y_train], axis=1)\n",
    "\n",
    "# # separate minority and majority classes\n",
    "# male = X[X[\"gender\"] == \"male\"]\n",
    "# female = X[X[\"gender\"] == \"female\"]\n",
    "\n",
    "# # upsample minority\n",
    "# male_upsampled = resample(male,\n",
    "#                           replace = True, # sample with replacement\n",
    "#                           n_samples = len(female), # match number in majority class)\n",
    "#                           random_state = 101)\n",
    "\n",
    "# # combine majority and upsample minority\n",
    "# upsampled = pd.concat([female, male_upsampled])\n",
    "\n",
    "# # check new class counts\n",
    "# upsampled.gender.value_counts()"
   ]
  },
  {
   "cell_type": "code",
   "execution_count": 59,
   "metadata": {},
   "outputs": [],
   "source": [
    "# X_train = upsampled.drop(\"gender\", axis=1)\n",
    "# y_train = upsampled[\"gender\"]"
   ]
  },
  {
   "cell_type": "markdown",
   "metadata": {},
   "source": [
    "## Match Test Set Columns with Training Set Columns"
   ]
  },
  {
   "cell_type": "code",
   "execution_count": 62,
   "metadata": {},
   "outputs": [],
   "source": [
    "# # get missing columns in training and test set\n",
    "# missing_cols = set(train.columns) - set(test.columns)\n",
    "\n",
    "# # add a missing column in test set with default value equal to 0\n",
    "# for c in missing_cols:\n",
    "#     test[c] = 0\n",
    "    \n",
    "# # ensure that order of column in the test set is in the same order than in train set\n",
    "# test = test[train.columns]"
   ]
  },
  {
   "cell_type": "code",
   "execution_count": 63,
   "metadata": {},
   "outputs": [],
   "source": [
    "# test = test.drop(\"gender\", axis=1)"
   ]
  },
  {
   "cell_type": "markdown",
   "metadata": {},
   "source": [
    "## Baseline Performance"
   ]
  },
  {
   "cell_type": "code",
   "execution_count": 388,
   "metadata": {},
   "outputs": [],
   "source": [
    "def baseliner(features, target, cv=3, metric=\"accuracy\"):\n",
    "    print(\"Baseline Models\\n\")\n",
    "    eval_dict = {}\n",
    "    models = [lgb.LGBMClassifier(), xgb.XGBClassifier(), cat.CatBoostClassifier(verbose=0), GradientBoostingClassifier(), \n",
    "              LogisticRegression(), RandomForestClassifier(), DecisionTreeClassifier(), AdaBoostClassifier(),\n",
    "              ExtraTreeClassifier(), ExtraTreesClassifier(), KNeighborsClassifier(), BaggingClassifier()]\n",
    "    print(\"Model Name \\t |    CV\")\n",
    "    print(\"--\"*50)\n",
    "    \n",
    "    for index, model in enumerate(models, 0):\n",
    "        model_name = str(model).split(\"(\")[0]\n",
    "        eval_dict[model_name] = {}\n",
    "        \n",
    "        results = cross_val_score(model, features, target, cv=cv, scoring=metric)\n",
    "        eval_dict[model_name][\"cv\"] = results.mean()\n",
    "        \n",
    "        print(\"%s \\t | %.4f \\t\" % (model_name[:12], eval_dict[model_name][\"cv\"]))"
   ]
  },
  {
   "cell_type": "code",
   "execution_count": 389,
   "metadata": {},
   "outputs": [
    {
     "name": "stdout",
     "output_type": "stream",
     "text": [
      "Baseline Models\n",
      "\n",
      "Model Name \t |    CV\n",
      "----------------------------------------------------------------------------------------------------\n",
      "LGBMClassifi \t | 0.8947 \t\n",
      "XGBClassifie \t | 0.8876 \t\n",
      "<catboost.co \t | 0.8966 \t\n",
      "GradientBoos \t | 0.8878 \t\n",
      "LogisticRegr \t | 0.7879 \t\n",
      "RandomForest \t | 0.8937 \t\n",
      "DecisionTree \t | 0.8338 \t\n",
      "AdaBoostClas \t | 0.8820 \t\n",
      "ExtraTreeCla \t | 0.7739 \t\n",
      "ExtraTreesCl \t | 0.8788 \t\n",
      "KNeighborsCl \t | 0.7517 \t\n",
      "BaggingClass \t | 0.8881 \t\n"
     ]
    }
   ],
   "source": [
    "baseliner(train_df, y, cv=5, metric=\"accuracy\")"
   ]
  },
  {
   "cell_type": "markdown",
   "metadata": {},
   "source": [
    "## Training and Testing Set"
   ]
  },
  {
   "cell_type": "code",
   "execution_count": 497,
   "metadata": {},
   "outputs": [],
   "source": [
    "rs = ShuffleSplit(n_splits=3, test_size=0.1, random_state=101)\n",
    "test_prob_preds = np.zeros(test.shape[0])"
   ]
  },
  {
   "cell_type": "markdown",
   "metadata": {},
   "source": [
    "## XGBoost Classifier"
   ]
  },
  {
   "cell_type": "code",
   "execution_count": 498,
   "metadata": {},
   "outputs": [
    {
     "name": "stdout",
     "output_type": "stream",
     "text": [
      "--------------------------------------------------------------------------------\n",
      "Iteration Number : 0\n",
      "[0]\ttrain-error:0.093811\tvalid-error:0.11006\n",
      "Multiple eval metrics have been passed: 'valid-error' will be used for early stopping.\n",
      "\n",
      "Will train until valid-error hasn't improved in 100 rounds.\n",
      "[50]\ttrain-error:0.059642\tvalid-error:0.087704\n",
      "[100]\ttrain-error:0.035699\tvalid-error:0.066208\n",
      "[150]\ttrain-error:0.019833\tvalid-error:0.052021\n",
      "[200]\ttrain-error:0.012951\tvalid-error:0.042562\n",
      "[250]\ttrain-error:0.007981\tvalid-error:0.039553\n",
      "[300]\ttrain-error:0.00454\tvalid-error:0.036114\n",
      "[350]\ttrain-error:0.002867\tvalid-error:0.033964\n",
      "[400]\ttrain-error:0.001577\tvalid-error:0.033534\n",
      "[450]\ttrain-error:0.000669\tvalid-error:0.033964\n",
      "[500]\ttrain-error:0.000239\tvalid-error:0.032674\n",
      "[550]\ttrain-error:9.6e-05\tvalid-error:0.032674\n",
      "[600]\ttrain-error:4.8e-05\tvalid-error:0.032244\n",
      "[650]\ttrain-error:0\tvalid-error:0.031384\n",
      "[700]\ttrain-error:0\tvalid-error:0.031384\n",
      "[750]\ttrain-error:0\tvalid-error:0.030525\n",
      "Stopping. Best iteration:\n",
      "[668]\ttrain-error:0\tvalid-error:0.030095\n",
      "\n",
      "Best Iteration :: 668 \n",
      "\n",
      "--------------------------------------------------------------------------------\n",
      "Iteration Number : 1\n",
      "[0]\ttrain-error:0.094241\tvalid-error:0.096303\n",
      "Multiple eval metrics have been passed: 'valid-error' will be used for early stopping.\n",
      "\n",
      "Will train until valid-error hasn't improved in 100 rounds.\n",
      "[50]\ttrain-error:0.058925\tvalid-error:0.070077\n",
      "[100]\ttrain-error:0.035412\tvalid-error:0.05331\n",
      "[150]\ttrain-error:0.02098\tvalid-error:0.044282\n",
      "[200]\ttrain-error:0.011995\tvalid-error:0.039123\n",
      "[250]\ttrain-error:0.007312\tvalid-error:0.037403\n",
      "[300]\ttrain-error:0.004492\tvalid-error:0.035254\n",
      "[350]\ttrain-error:0.002867\tvalid-error:0.031384\n",
      "[400]\ttrain-error:0.001243\tvalid-error:0.031384\n",
      "[450]\ttrain-error:0.000669\tvalid-error:0.031384\n",
      "[500]\ttrain-error:0.000191\tvalid-error:0.030525\n",
      "[550]\ttrain-error:0\tvalid-error:0.029665\n",
      "[600]\ttrain-error:0\tvalid-error:0.027945\n",
      "[650]\ttrain-error:0\tvalid-error:0.027945\n",
      "Stopping. Best iteration:\n",
      "[595]\ttrain-error:0\tvalid-error:0.027945\n",
      "\n",
      "Best Iteration :: 595 \n",
      "\n",
      "--------------------------------------------------------------------------------\n",
      "Iteration Number : 2\n",
      "[0]\ttrain-error:0.092043\tvalid-error:0.119518\n",
      "Multiple eval metrics have been passed: 'valid-error' will be used for early stopping.\n",
      "\n",
      "Will train until valid-error hasn't improved in 100 rounds.\n",
      "[50]\ttrain-error:0.058065\tvalid-error:0.083405\n",
      "[100]\ttrain-error:0.033692\tvalid-error:0.062769\n",
      "[150]\ttrain-error:0.020072\tvalid-error:0.052451\n",
      "[200]\ttrain-error:0.010705\tvalid-error:0.043852\n",
      "[250]\ttrain-error:0.006499\tvalid-error:0.039983\n",
      "[300]\ttrain-error:0.003536\tvalid-error:0.037403\n",
      "[350]\ttrain-error:0.001864\tvalid-error:0.036973\n",
      "[400]\ttrain-error:0.000908\tvalid-error:0.035254\n",
      "[450]\ttrain-error:0.000287\tvalid-error:0.033104\n",
      "[500]\ttrain-error:9.6e-05\tvalid-error:0.033104\n",
      "[550]\ttrain-error:4.8e-05\tvalid-error:0.032244\n",
      "[600]\ttrain-error:4.8e-05\tvalid-error:0.031384\n",
      "[650]\ttrain-error:0\tvalid-error:0.031384\n",
      "[700]\ttrain-error:0\tvalid-error:0.031814\n",
      "Stopping. Best iteration:\n",
      "[617]\ttrain-error:0\tvalid-error:0.030954\n",
      "\n",
      "Best Iteration :: 617 \n",
      "\n",
      "(10204,) [1.50395790e-03 9.36635599e-03 2.40659909e-04 8.93085877e-01\n",
      " 8.93085877e-01]\n"
     ]
    },
    {
     "data": {
      "image/png": "[encoded data removed]",
      "text/plain": [
       "<Figure size 1728x1728 with 1 Axes>"
      ]
     },
     "metadata": {
      "needs_background": "light"
     },
     "output_type": "display_data"
    },
    {
     "data": {
      "image/png": "[encoded data removed]",
      "text/plain": [
       "<Figure size 1728x1728 with 1 Axes>"
      ]
     },
     "metadata": {
      "needs_background": "light"
     },
     "output_type": "display_data"
    },
    {
     "data": {
      "image/png": "[encoded data removed]",
      "text/plain": [
       "<Figure size 1728x1728 with 1 Axes>"
      ]
     },
     "metadata": {
      "needs_background": "light"
     },
     "output_type": "display_data"
    }
   ],
   "source": [
    "for idx, (train_idx, valid_idx) in enumerate(rs.split(train_df, pd.DataFrame(y))):\n",
    "    print(\"--\"*40)\n",
    "    print(\"Iteration Number : {}\".format(idx))\n",
    "    MAX_ROUNDS=2000\n",
    "    early_stopping_rounds=100\n",
    "    params = {\n",
    "        'booster': 'gbtree',\n",
    "        'objective': 'binary:logistic',\n",
    "        'eval_metric': 'error',\n",
    "        'learning_rate': 0.1,\n",
    "        'num_round': MAX_ROUNDS,\n",
    "        'max_depth': 8,\n",
    "        'seed': 13,\n",
    "        'nthread': -1\n",
    "    }\n",
    "\n",
    "    X_train, X_valid, y_train, y_valid = train_df.iloc[train_idx], train_df.iloc[valid_idx], pd.DataFrame(y).iloc[train_idx], pd.DataFrame(y).iloc[valid_idx]\n",
    "    \n",
    "    dtrain = xgb.DMatrix(X_train, label=y_train)\n",
    "    dvalid = xgb.DMatrix(X_valid, label=y_valid)\n",
    "    watchlist = [(dtrain, 'train'), (dvalid, 'valid')]\n",
    "    \n",
    "    model = xgb.train(\n",
    "        params,\n",
    "        dtrain,\n",
    "        evals=watchlist,\n",
    "        num_boost_round=MAX_ROUNDS,\n",
    "        early_stopping_rounds=early_stopping_rounds,\n",
    "        verbose_eval=50\n",
    "    )\n",
    "    \n",
    "    print(\"Best Iteration :: {} \\n\".format(model.best_iteration))\n",
    "\n",
    "    # Plotting Importances\n",
    "    fig, ax = plt.subplots(figsize=(24, 24))\n",
    "    xgb.plot_importance(model, height=0.4, ax=ax)\n",
    "    preds = model.predict(xgb.DMatrix(test), ntree_limit=model.best_ntree_limit)\n",
    "    \n",
    "    test_prob_preds += preds\n",
    "    \n",
    "test_prob_preds /= rs.n_splits\n",
    "print(test_prob_preds.shape, test_prob_preds[: 5])"
   ]
  },
  {
   "cell_type": "code",
   "execution_count": 499,
   "metadata": {},
   "outputs": [
    {
     "data": {
      "text/html": [
       "<div>\n",
       "<style scoped>\n",
       "    .dataframe tbody tr th:only-of-type {\n",
       "        vertical-align: middle;\n",
       "    }\n",
       "\n",
       "    .dataframe tbody tr th {\n",
       "        vertical-align: top;\n",
       "    }\n",
       "\n",
       "    .dataframe thead th {\n",
       "        text-align: right;\n",
       "    }\n",
       "</style>\n",
       "<table border=\"1\" class=\"dataframe\">\n",
       "  <thead>\n",
       "    <tr style=\"text-align: right;\">\n",
       "      <th></th>\n",
       "      <th>session_id</th>\n",
       "      <th>total_products</th>\n",
       "      <th>category</th>\n",
       "      <th>sub_category</th>\n",
       "      <th>sub_sub_category</th>\n",
       "      <th>product</th>\n",
       "      <th>duration</th>\n",
       "      <th>startTime_month</th>\n",
       "      <th>startTime_day</th>\n",
       "      <th>startTime_doy</th>\n",
       "      <th>startTime_week</th>\n",
       "      <th>startTime_dow</th>\n",
       "      <th>startTime_hour</th>\n",
       "      <th>startTime_minute</th>\n",
       "      <th>endTime_hour</th>\n",
       "      <th>endTime_minute</th>\n",
       "      <th>total_product_day</th>\n",
       "      <th>total_product_week</th>\n",
       "      <th>total_product_dow</th>\n",
       "      <th>total_product_hour</th>\n",
       "    </tr>\n",
       "  </thead>\n",
       "  <tbody>\n",
       "    <tr>\n",
       "      <th>0</th>\n",
       "      <td>2111</td>\n",
       "      <td>1</td>\n",
       "      <td>1</td>\n",
       "      <td>2</td>\n",
       "      <td>5</td>\n",
       "      <td>12675</td>\n",
       "      <td>0</td>\n",
       "      <td>8</td>\n",
       "      <td>12</td>\n",
       "      <td>224</td>\n",
       "      <td>33</td>\n",
       "      <td>1</td>\n",
       "      <td>13</td>\n",
       "      <td>36</td>\n",
       "      <td>13</td>\n",
       "      <td>36</td>\n",
       "      <td>13989</td>\n",
       "      <td>3857</td>\n",
       "      <td>7435</td>\n",
       "      <td>6444</td>\n",
       "    </tr>\n",
       "    <tr>\n",
       "      <th>1</th>\n",
       "      <td>9724</td>\n",
       "      <td>1</td>\n",
       "      <td>1</td>\n",
       "      <td>4</td>\n",
       "      <td>66</td>\n",
       "      <td>1407</td>\n",
       "      <td>0</td>\n",
       "      <td>12</td>\n",
       "      <td>19</td>\n",
       "      <td>353</td>\n",
       "      <td>51</td>\n",
       "      <td>4</td>\n",
       "      <td>13</td>\n",
       "      <td>52</td>\n",
       "      <td>13</td>\n",
       "      <td>52</td>\n",
       "      <td>1972</td>\n",
       "      <td>9599</td>\n",
       "      <td>8165</td>\n",
       "      <td>6444</td>\n",
       "    </tr>\n",
       "    <tr>\n",
       "      <th>2</th>\n",
       "      <td>1794</td>\n",
       "      <td>1</td>\n",
       "      <td>1</td>\n",
       "      <td>1</td>\n",
       "      <td>3</td>\n",
       "      <td>8129</td>\n",
       "      <td>0</td>\n",
       "      <td>1</td>\n",
       "      <td>12</td>\n",
       "      <td>12</td>\n",
       "      <td>2</td>\n",
       "      <td>6</td>\n",
       "      <td>10</td>\n",
       "      <td>44</td>\n",
       "      <td>10</td>\n",
       "      <td>44</td>\n",
       "      <td>13989</td>\n",
       "      <td>2347</td>\n",
       "      <td>6112</td>\n",
       "      <td>2969</td>\n",
       "    </tr>\n",
       "    <tr>\n",
       "      <th>3</th>\n",
       "      <td>12638</td>\n",
       "      <td>4</td>\n",
       "      <td>1</td>\n",
       "      <td>2</td>\n",
       "      <td>77</td>\n",
       "      <td>14345</td>\n",
       "      <td>180</td>\n",
       "      <td>8</td>\n",
       "      <td>12</td>\n",
       "      <td>224</td>\n",
       "      <td>33</td>\n",
       "      <td>1</td>\n",
       "      <td>20</td>\n",
       "      <td>19</td>\n",
       "      <td>20</td>\n",
       "      <td>22</td>\n",
       "      <td>13989</td>\n",
       "      <td>3857</td>\n",
       "      <td>7435</td>\n",
       "      <td>3464</td>\n",
       "    </tr>\n",
       "    <tr>\n",
       "      <th>3</th>\n",
       "      <td>12638</td>\n",
       "      <td>4</td>\n",
       "      <td>1</td>\n",
       "      <td>2</td>\n",
       "      <td>77</td>\n",
       "      <td>14346</td>\n",
       "      <td>180</td>\n",
       "      <td>8</td>\n",
       "      <td>12</td>\n",
       "      <td>224</td>\n",
       "      <td>33</td>\n",
       "      <td>1</td>\n",
       "      <td>20</td>\n",
       "      <td>19</td>\n",
       "      <td>20</td>\n",
       "      <td>22</td>\n",
       "      <td>13989</td>\n",
       "      <td>3857</td>\n",
       "      <td>7435</td>\n",
       "      <td>3464</td>\n",
       "    </tr>\n",
       "  </tbody>\n",
       "</table>\n",
       "</div>"
      ],
      "text/plain": [
       "   session_id  total_products  category  sub_category  sub_sub_category  \\\n",
       "0  2111        1               1         2             5                  \n",
       "1  9724        1               1         4             66                 \n",
       "2  1794        1               1         1             3                  \n",
       "3  12638       4               1         2             77                 \n",
       "3  12638       4               1         2             77                 \n",
       "\n",
       "   product  duration  startTime_month  startTime_day  startTime_doy  \\\n",
       "0  12675    0         8                12             224             \n",
       "1  1407     0         12               19             353             \n",
       "2  8129     0         1                12             12              \n",
       "3  14345    180       8                12             224             \n",
       "3  14346    180       8                12             224             \n",
       "\n",
       "   startTime_week  startTime_dow  startTime_hour  startTime_minute  \\\n",
       "0  33              1              13              36                 \n",
       "1  51              4              13              52                 \n",
       "2  2               6              10              44                 \n",
       "3  33              1              20              19                 \n",
       "3  33              1              20              19                 \n",
       "\n",
       "   endTime_hour  endTime_minute  total_product_day  total_product_week  \\\n",
       "0  13            36              13989              3857                 \n",
       "1  13            52              1972               9599                 \n",
       "2  10            44              13989              2347                 \n",
       "3  20            22              13989              3857                 \n",
       "3  20            22              13989              3857                 \n",
       "\n",
       "   total_product_dow  total_product_hour  \n",
       "0  7435               6444                \n",
       "1  8165               6444                \n",
       "2  6112               2969                \n",
       "3  7435               3464                \n",
       "3  7435               3464                "
      ]
     },
     "execution_count": 499,
     "metadata": {},
     "output_type": "execute_result"
    }
   ],
   "source": [
    "test.head()"
   ]
  },
  {
   "cell_type": "code",
   "execution_count": 500,
   "metadata": {},
   "outputs": [],
   "source": [
    "# take the mean of the proabilities for all the session_ids to calculate male or female\n",
    "test[\"predict_prob\"] = test_prob_preds\n",
    "test[\"session_id\"] = le_session.inverse_transform(test[\"session_id\"])\n",
    "agg = test.groupby([\"session_id\"])[\"predict_prob\"].mean().reset_index()"
   ]
  },
  {
   "cell_type": "markdown",
   "metadata": {},
   "source": [
    "## Submission"
   ]
  },
  {
   "cell_type": "code",
   "execution_count": 501,
   "metadata": {},
   "outputs": [],
   "source": [
    "sub = pd.read_csv(\"sample_submission.csv\")\n",
    "sub = sub.drop(\"gender\", axis=1)\n",
    "sub = pd.merge(sub, agg, on=[\"session_id\"], how='left')"
   ]
  },
  {
   "cell_type": "code",
   "execution_count": 502,
   "metadata": {},
   "outputs": [],
   "source": [
    "sub[\"gender\"] = sub[\"predict_prob\"].apply(lambda x: round(x))"
   ]
  },
  {
   "cell_type": "code",
   "execution_count": 503,
   "metadata": {},
   "outputs": [],
   "source": [
    "sub[\"gender\"] = sub[\"gender\"].map({1: \"male\", 0: \"female\"})"
   ]
  },
  {
   "cell_type": "code",
   "execution_count": 504,
   "metadata": {},
   "outputs": [],
   "source": [
    "sub = sub.drop(\"predict_prob\", axis=1)"
   ]
  },
  {
   "cell_type": "code",
   "execution_count": 476,
   "metadata": {},
   "outputs": [
    {
     "data": {
      "text/html": [
       "<div>\n",
       "<style scoped>\n",
       "    .dataframe tbody tr th:only-of-type {\n",
       "        vertical-align: middle;\n",
       "    }\n",
       "\n",
       "    .dataframe tbody tr th {\n",
       "        vertical-align: top;\n",
       "    }\n",
       "\n",
       "    .dataframe thead th {\n",
       "        text-align: right;\n",
       "    }\n",
       "</style>\n",
       "<table border=\"1\" class=\"dataframe\">\n",
       "  <thead>\n",
       "    <tr style=\"text-align: right;\">\n",
       "      <th></th>\n",
       "      <th>session_id</th>\n",
       "      <th>gender</th>\n",
       "    </tr>\n",
       "  </thead>\n",
       "  <tbody>\n",
       "    <tr>\n",
       "      <th>0</th>\n",
       "      <td>u12112</td>\n",
       "      <td>female</td>\n",
       "    </tr>\n",
       "    <tr>\n",
       "      <th>1</th>\n",
       "      <td>u19725</td>\n",
       "      <td>female</td>\n",
       "    </tr>\n",
       "    <tr>\n",
       "      <th>2</th>\n",
       "      <td>u11795</td>\n",
       "      <td>female</td>\n",
       "    </tr>\n",
       "    <tr>\n",
       "      <th>3</th>\n",
       "      <td>u22639</td>\n",
       "      <td>male</td>\n",
       "    </tr>\n",
       "    <tr>\n",
       "      <th>4</th>\n",
       "      <td>u18034</td>\n",
       "      <td>male</td>\n",
       "    </tr>\n",
       "  </tbody>\n",
       "</table>\n",
       "</div>"
      ],
      "text/plain": [
       "  session_id  gender\n",
       "0  u12112     female\n",
       "1  u19725     female\n",
       "2  u11795     female\n",
       "3  u22639     male  \n",
       "4  u18034     male  "
      ]
     },
     "execution_count": 476,
     "metadata": {},
     "output_type": "execute_result"
    }
   ],
   "source": [
    "sub.to_submission(\"submission.csv\")"
   ]
  }
 ],
 "metadata": {
  "kernelspec": {
   "display_name": "Python 3",
   "language": "python",
   "name": "python3"
  },
  "language_info": {
   "codemirror_mode": {
    "name": "ipython",
    "version": 3
   },
   "file_extension": ".py",
   "mimetype": "text/x-python",
   "name": "python",
   "nbconvert_exporter": "python",
   "pygments_lexer": "ipython3",
   "version": "3.7.4"
  }
 },
 "nbformat": 4,
 "nbformat_minor": 4
}
